{
 "cells": [
  {
   "attachments": {},
   "cell_type": "markdown",
   "metadata": {},
   "source": [
    "# SDA/LING 250 - Assignment 2\n",
    "## Sonia Dosanjh and Sinni Ma"
   ]
  },
  {
   "attachments": {},
   "cell_type": "markdown",
   "metadata": {},
   "source": [
    "### Downloading Packages, loading data and assigning data"
   ]
  },
  {
   "cell_type": "code",
   "execution_count": 16,
   "metadata": {},
   "outputs": [],
   "source": [
    "# Libraries\n",
    "import re\n",
    "import pandas as pd\n",
    "from textblob import TextBlob"
   ]
  },
  {
   "cell_type": "code",
   "execution_count": 29,
   "metadata": {},
   "outputs": [
    {
     "data": {
      "text/plain": [
       "'\\nreference for the re module and the way of data cleaning\\nhttps://www.datacamp.com/tutorial/regex-r-regular-expressions-guide\\n'"
      ]
     },
     "execution_count": 29,
     "metadata": {},
     "output_type": "execute_result"
    }
   ],
   "source": [
    "# Read in the transcript file\n",
    "with open('debateTranscript.rtf', 'r') as f:\n",
    "    lines = f.readlines()\n",
    "\n",
    "speeches = []\n",
    "listOfSpeakers = []\n",
    "listOfSpeech = []\n",
    "\n",
    "for line in lines:\n",
    "    match = re.match(r'^(.+?):\\s+(.*)$', line)\n",
    "    if match:\n",
    "        speaker = match.group(1)\n",
    "        speech = match.group(2)\n",
    "        speeches.append((speaker, speech))\n",
    "\n",
    "for speaker, speech in speeches:\n",
    "    listOfSpeakers += [speaker]\n",
    "    listOfSpeech += [speech]\n",
    "\n",
    "'''\n",
    "# uncomment to print out the speeches if needed\n",
    "for i, j in speeches:\n",
    "    print(i + ': '+ j)\n",
    "'''\n",
    "\n",
    "### reference\n",
    "'''\n",
    "reference for the re module and the way of data cleaning\n",
    "https://www.datacamp.com/tutorial/regex-r-regular-expressions-guide\n",
    "'''\n"
   ]
  },
  {
   "cell_type": "code",
   "execution_count": 30,
   "metadata": {},
   "outputs": [
    {
     "data": {
      "text/plain": [
       "0.12677744984696535"
      ]
     },
     "execution_count": 30,
     "metadata": {},
     "output_type": "execute_result"
    }
   ],
   "source": [
    "blob = TextBlob(str(listOfSpeech))\n",
    "blob.sentiment\n",
    "blob.sentiment.polarity"
   ]
  },
  {
   "cell_type": "code",
   "execution_count": null,
   "metadata": {},
   "outputs": [],
   "source": []
  }
 ],
 "metadata": {
  "kernelspec": {
   "display_name": "Python 3",
   "language": "python",
   "name": "python3"
  },
  "language_info": {
   "codemirror_mode": {
    "name": "ipython",
    "version": 3
   },
   "file_extension": ".py",
   "mimetype": "text/x-python",
   "name": "python",
   "nbconvert_exporter": "python",
   "pygments_lexer": "ipython3",
   "version": "3.9.1"
  },
  "orig_nbformat": 4
 },
 "nbformat": 4,
 "nbformat_minor": 2
}
